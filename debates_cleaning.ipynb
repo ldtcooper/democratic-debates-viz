{
 "metadata": {
  "language_info": {
   "codemirror_mode": {
    "name": "ipython",
    "version": 3
   },
   "file_extension": ".py",
   "mimetype": "text/x-python",
   "name": "python",
   "nbconvert_exporter": "python",
   "pygments_lexer": "ipython3",
   "version": "3.8.5-final"
  },
  "orig_nbformat": 2,
  "kernelspec": {
   "name": "python_defaultSpec_1599873503233",
   "display_name": "Python 3.8.5 64-bit ('dem-viz': conda)"
  }
 },
 "nbformat": 4,
 "nbformat_minor": 2,
 "cells": [
  {
   "cell_type": "code",
   "execution_count": 1,
   "metadata": {},
   "outputs": [],
   "source": [
    "import pandas as pd\n",
    "import re\n",
    "debates = pd.read_csv('./raw_debates.csv')"
   ]
  },
  {
   "cell_type": "code",
   "execution_count": 2,
   "metadata": {
    "tags": []
   },
   "outputs": [
    {
     "output_type": "execute_result",
     "data": {
      "text/plain": "count    206.000000\nmean      15.834951\nstd       25.881756\nmin        1.000000\n25%        3.000000\n50%        5.000000\n75%       16.000000\nmax      174.000000\nName: dialog, dtype: float64"
     },
     "metadata": {},
     "execution_count": 2
    }
   ],
   "source": [
    "# Looking at summary stats about the size of unknown speaker dialog\n",
    "speaker_or_moderator = re.compile(r'(Speaker|Moderator|Audience)')\n",
    "unknown = debates['speaker'].str.contains(speaker_or_moderator)\n",
    "unkowns_only = debates[unknown]\n",
    "words_in_unknown = unkowns_only['dialog'].str.split().str.len()\n",
    "words_in_unknown.describe()"
   ]
  },
  {
   "cell_type": "code",
   "execution_count": 3,
   "metadata": {},
   "outputs": [
    {
     "output_type": "execute_result",
     "data": {
      "text/plain": "count    6045.000000\nmean       47.757486\nstd        50.729882\nmin         1.000000\n25%         6.000000\n50%        24.000000\n75%        81.000000\nmax       304.000000\nName: dialog, dtype: float64"
     },
     "metadata": {},
     "execution_count": 3
    }
   ],
   "source": [
    "# comparing to size of known speaker dialog\n",
    "debate_without_unknowns = debates[~unknown]\n",
    "words_in_known = debate_without_unknowns['dialog'].str.split().str.len()\n",
    "words_in_known.describe()"
   ]
  },
  {
   "cell_type": "markdown",
   "metadata": {},
   "source": [
    "# Unknown Cleanup\n",
    "Taking a look at the data immediatly after scraping, there was one problem that immediatly stood out: not all of the speakers could be identified. Almost all of them were, but some were marked with `\"Speaker <number>\"` or `\"Moderator <number>\"`. While this could have been fixed with a careful examination of the original videos alongside the transcrips, that would have been incredibly time-consuming for over 200 rows.\n",
    "\n",
    "Looking at summary statistics for the number of words in dialog by unknown vs. known speakers, we can see that the mean dialog (pun intended) spoken by an unknown speaker is less than one quarter the length of that of a known speaker. It is also much more closely clustered around that smaller size (with a SD of ~15.83 versus the SD of ~47.76 for known speakers). \n",
    "\n",
    "Because of the relatively small number of unknown lines (~3% of the total), and the small size of those lines, we are simply removing the rows with unknown speakers. After doing so, our next step will be to clean up the names of the remaining speakers."
   ]
  },
  {
   "cell_type": "code",
   "execution_count": 4,
   "metadata": {
    "tags": []
   },
   "outputs": [
    {
     "output_type": "stream",
     "name": "stdout",
     "text": "['A. Cooper', 'Abby P', 'Abby Phillip', 'Abby Phillips', 'Adam Sexton', 'Amna', 'Amna Nawaz', 'Amy Klobachar', 'Amy Klobuchar', 'Amy Langenfeld', 'Amy Walter', 'Anderson Cooper', 'Andrea Mitchell', 'Andrew Yang', 'Announcer', 'Ashley Parker', 'B. Pfannenstiel', 'Bennett', 'Bernie Sanders', 'Beto O’Rourke', 'Bill De Blasio', 'Bill Whitaker', 'Bill de Blasio', 'Brianne P', 'Brianne P.', 'Chuck Todd', 'Cory Booker', 'Crowd', 'Dana Bash', 'David', 'David Muir', 'Devin Dwyer', 'Diana', 'Don Lemon', 'Dr. Sanjay Gupta', 'E. Warren', 'Elizabeth W', 'Elizabeth W.', 'Elizabeth Warre', 'Elizabeth Warren', 'Eric Stalwell', 'Eric Swalwell', 'Erin Burnett', 'Female', 'Gayle King', 'George S', 'George S.', 'Gillibrand', 'Hallie Jackson', 'Helen', 'Ilia Calderón', 'J. Hickenlooper', 'Jake Tapper', 'Jay Inslee', 'Joe Biden', 'John Delaney', 'John H', 'John H.', 'John Hickenloop', 'John King', 'Jon Ralston', 'Jorge Ramos', 'Jose', 'Jose D. B.', 'Jose D.B.', 'Judy', 'Judy Woodruff', 'Julian Castro', 'Kamala Harris', 'Kirsten G.', 'Kristen Gillibr', 'Kristen Welker', 'Lester Holt', 'Lindsey', 'Linsey Davis', 'M. Williamson', 'Major Garrett', 'Male', 'Marc Lacey', 'Margaret Brennan', 'Marianne W.', 'Marianne Willia', 'Mayor Buttigieg', 'Mayor de Blasio', 'Michael Bennet', 'Michael Bloomberg', 'Mike Bloomberg', 'Monica Hernandez', 'Ms. Williamson', 'N. Henderson', 'Norah O’Donnell', 'Pete Buttigieg', 'Rachel Maddow', 'Rachel Scott', 'Savanagh G.', 'Savannah', 'Savannah G.', 'Sec. Castro', 'Sen Klobuchar', 'Senator Bennet', 'Senator Booker', 'Senator Warren', 'Stephanie Sy', 'Steve Bullock', 'Steve Kornacki', 'Tim Alberta', 'Tim Ryan', 'Tom Steyer', 'Tulsi Gabbard', 'Vanessa Hauc', 'Voiceover', 'Wolf Blitzer', 'Yamiche', 'Yamiche A.', 'Yang']\n"
    }
   ],
   "source": [
    "\n",
    "# remove unknown speakers\n",
    "debates = debate_without_unknowns\n",
    "# see all names\n",
    "unique_names = sorted(debates['speaker'].unique())\n",
    "print(unique_names)\n",
    "\n",
    "text_file = open('names.csv', 'w')\n",
    "n = text_file.write(',\\n'.join(unique_names))\n",
    "text_file.close()\n",
    "\n"
   ]
  },
  {
   "cell_type": "markdown",
   "metadata": {},
   "source": [
    "# Normalizing Names\n",
    "My next problem was the large variation in names. The same candidate could be referred to by a lot of different names. Some of these were as simple as extra spacing on the end (which I fixed in the data scraper), while others were more complicated.\n",
    "\n",
    "For example: Elizabeth Warren was in the transcripts under 6 different variations of her name, e.g. \"Elizabeth Warren,\", \"E. Warren\", \"Senator Warren\"\n",
    "\n",
    "It would have been cool to do this programatically. One solution I saw to a similar problem was to use k-mean clustering by Levenshtein Distance, but there were two problems with this approach. One, I would need to know how many clusters (i.e. people) I needed to find, and two, I'd need to take the time to implement that rather heavy way of doing things, in which time I could have done the one-time task several times over. With that in mind, I went through the unique list of names by hand and created a table that would tell me what actual names correspond to names in the transcripts. \n",
    "\n",
    "I also used that opportunity to denote which people were candidates.\n",
    "\n",
    "You can see the results of this process in `names_conversion.csv`.\n",
    "\n"
   ]
  },
  {
   "cell_type": "code",
   "execution_count": 6,
   "metadata": {
    "tags": []
   },
   "outputs": [
    {
     "output_type": "stream",
     "name": "stdout",
     "text": "{'A. Cooper': {'to_name': 'Anderson Cooper', 'is_candidate': 'n'}, 'Abby P': {'to_name': 'Abby Phillip', 'is_candidate': 'n'}, 'Abby Phillip': {'to_name': 'Abby Phillip', 'is_candidate': 'n'}, 'Abby Phillips': {'to_name': 'Abby Phillip', 'is_candidate': 'n'}, 'Adam Sexton': {'to_name': 'Adam Sexton', 'is_candidate': 'n'}, 'Amna': {'to_name': 'Amna Nawaz', 'is_candidate': 'n'}, 'Amna Nawaz': {'to_name': 'Amna Nawaz', 'is_candidate': 'n'}, 'Amy Klobachar': {'to_name': 'Amy Klobuchar', 'is_candidate': 'y'}, 'Amy Klobuchar': {'to_name': 'Amy Klobuchar', 'is_candidate': 'y'}, 'Amy Langenfeld': {'to_name': 'Amy Langenfeld', 'is_candidate': 'n'}, 'Amy Walter': {'to_name': 'Amy Walter', 'is_candidate': 'n'}, 'Anderson Cooper': {'to_name': 'Anderson Cooper', 'is_candidate': 'n'}, 'Andrea Mitchell': {'to_name': 'Andrea Mitchell', 'is_candidate': 'n'}, 'Andrew Yang': {'to_name': 'Andrew Yang', 'is_candidate': 'y'}, 'Announcer': {'to_name': 'Announcer', 'is_candidate': 'n'}, 'Ashley Parker': {'to_name': 'Ashley Parker', 'is_candidate': 'n'}, 'B. Pfannenstiel': {'to_name': 'Brianne Pfannenstiel', 'is_candidate': 'n'}, 'Bennett': {'to_name': 'Michael Bennet', 'is_candidate': 'y'}, 'Bernie Sanders': {'to_name': 'Bernie Sanders', 'is_candidate': 'y'}, 'Beto O’Rourke': {'to_name': 'Beto O’Rourke', 'is_candidate': 'y'}, 'Bill De Blasio': {'to_name': 'Bill De Blasio', 'is_candidate': 'y'}, 'Bill Whitaker': {'to_name': 'Bill Whitaker', 'is_candidate': 'n'}, 'Bill de Blasio': {'to_name': 'Bill De Blasio', 'is_candidate': 'y'}, 'Brianne P': {'to_name': 'Brianne Pfannenstiel', 'is_candidate': 'n'}, 'Brianne P.': {'to_name': 'Brianne Pfannenstiel', 'is_candidate': 'n'}, 'Chuck Todd': {'to_name': 'Chuck Todd', 'is_candidate': 'n'}, 'Cory Booker': {'to_name': 'Cory Booker', 'is_candidate': 'y'}, 'Crowd': {'to_name': nan, 'is_candidate': nan}, 'Dana Bash': {'to_name': 'Dana Bash', 'is_candidate': 'n'}, 'David': {'to_name': 'David Muir', 'is_candidate': 'n'}, 'David Muir': {'to_name': 'David Muir', 'is_candidate': 'n'}, 'Devin Dwyer': {'to_name': 'Devin Dwyer', 'is_candidate': 'n'}, 'Diana': {'to_name': 'Dana Bash', 'is_candidate': 'n'}, 'Don Lemon': {'to_name': 'Don Lemon', 'is_candidate': 'n'}, 'Dr. Sanjay Gupta': {'to_name': 'Sanjay Gupta', 'is_candidate': 'n'}, 'E. Warren': {'to_name': 'Elizabeth Warren', 'is_candidate': 'y'}, 'Elizabeth W': {'to_name': 'Elizabeth Warren', 'is_candidate': 'y'}, 'Elizabeth W.': {'to_name': 'Elizabeth Warren', 'is_candidate': 'y'}, 'Elizabeth Warre': {'to_name': 'Elizabeth Warren', 'is_candidate': 'y'}, 'Elizabeth Warren': {'to_name': 'Elizabeth Warren', 'is_candidate': 'y'}, 'Eric Stalwell': {'to_name': 'Eric Swalwell', 'is_candidate': 'y'}, 'Eric Swalwell': {'to_name': 'Eric Swalwell', 'is_candidate': 'y'}, 'Erin Burnett': {'to_name': 'Erin Burnett', 'is_candidate': 'n'}, 'Female': {'to_name': nan, 'is_candidate': nan}, 'Gayle King': {'to_name': 'Gayle King', 'is_candidate': 'n'}, 'George S': {'to_name': 'George Stephanopoulos', 'is_candidate': 'n'}, 'George S.': {'to_name': 'George Stephanopoulos', 'is_candidate': 'n'}, 'Gillibrand': {'to_name': 'Kirsten Gillibrand', 'is_candidate': 'y'}, 'Hallie Jackson': {'to_name': 'Hallie Jackson', 'is_candidate': 'n'}, 'Helen': {'to_name': 'Hallie Jackson', 'is_candidate': nan}, 'Ilia Calderón': {'to_name': 'Ilia Calderón', 'is_candidate': 'n'}, 'J. Hickenlooper': {'to_name': 'John Hickenlooper', 'is_candidate': 'y'}, 'Jake Tapper': {'to_name': 'Jake Tapper', 'is_candidate': 'n'}, 'Jay Inslee': {'to_name': 'Jay Inslee', 'is_candidate': 'y'}, 'Joe Biden': {'to_name': 'Joe Biden', 'is_candidate': 'y'}, 'John Delaney': {'to_name': 'John Delaney', 'is_candidate': 'y'}, 'John H': {'to_name': 'John Hickenlooper', 'is_candidate': 'y'}, 'John H.': {'to_name': 'John Hickenlooper', 'is_candidate': 'y'}, 'John Hickenloop': {'to_name': 'John Hickenlooper', 'is_candidate': 'y'}, 'John King': {'to_name': 'John King', 'is_candidate': 'n'}, 'Jon Ralston': {'to_name': 'Jon Ralson', 'is_candidate': 'n'}, 'Jorge Ramos': {'to_name': 'Jorge Ramos', 'is_candidate': 'n'}, 'Jose': {'to_name': 'Jose Diaz-Balart', 'is_candidate': 'n'}, 'Jose D. B.': {'to_name': 'Jose Diaz-Balart', 'is_candidate': 'n'}, 'Jose D.B.': {'to_name': 'Jose Diaz-Balart', 'is_candidate': 'n'}, 'Judy': {'to_name': 'Judy Woodruff', 'is_candidate': 'n'}, 'Judy Woodruff': {'to_name': 'Judy Woodruff', 'is_candidate': 'n'}, 'Julian Castro': {'to_name': 'Julian Castro', 'is_candidate': 'y'}, 'Kamala Harris': {'to_name': 'Kamala Harris', 'is_candidate': 'y'}, 'Kirsten G.': {'to_name': 'Kirsten Gillibrand', 'is_candidate': 'y'}, 'Kristen Gillibr': {'to_name': 'Kirsten Gillibrand', 'is_candidate': 'y'}, 'Kristen Welker': {'to_name': 'Kristen Welker', 'is_candidate': 'n'}, 'Lester Holt': {'to_name': 'Lester Holt', 'is_candidate': 'n'}, 'Lindsey': {'to_name': 'Linsey Davis', 'is_candidate': 'n'}, 'Linsey Davis': {'to_name': 'Linsey Davis', 'is_candidate': 'n'}, 'M. Williamson': {'to_name': 'Marianne Williamson', 'is_candidate': 'y'}, 'Major Garrett': {'to_name': 'Major Garrett', 'is_candidate': 'n'}, 'Male': {'to_name': nan, 'is_candidate': nan}, 'Marc Lacey': {'to_name': 'Marc Lacey', 'is_candidate': 'n'}, 'Margaret Brennan': {'to_name': 'Margaret Brennan', 'is_candidate': 'n'}, 'Marianne W.': {'to_name': 'Marianne Williamson', 'is_candidate': 'y'}, 'Marianne Willia': {'to_name': 'Marianne Williamson', 'is_candidate': 'y'}, 'Mayor Buttigieg': {'to_name': 'Pete Buttigieg', 'is_candidate': 'y'}, 'Mayor de Blasio': {'to_name': 'Bill De Blasio', 'is_candidate': 'y'}, 'Michael Bennet': {'to_name': 'Michael Bennet', 'is_candidate': 'y'}, 'Michael Bloomberg': {'to_name': 'Michael Bloomberg', 'is_candidate': 'y'}, 'Mike Bloomberg': {'to_name': 'Michael Bloomberg', 'is_candidate': 'y'}, 'Monica Hernandez': {'to_name': 'Monica Hernandez', 'is_candidate': 'n'}, 'Ms. Williamson': {'to_name': 'Marianne Williamson', 'is_candidate': 'y'}, 'N. Henderson': {'to_name': 'Nia-Malika Henderson', 'is_candidate': 'n'}, 'Norah O’Donnell': {'to_name': 'Norah O’Donnell', 'is_candidate': 'n'}, 'Pete Buttigieg': {'to_name': 'Pete Buttigieg', 'is_candidate': 'y'}, 'Rachel Maddow': {'to_name': 'Rachel Maddow', 'is_candidate': 'n'}, 'Rachel Scott': {'to_name': 'Rachel Scott', 'is_candidate': 'n'}, 'Savanagh G.': {'to_name': 'Savannah Guthrie', 'is_candidate': 'n'}, 'Savannah': {'to_name': 'Savannah Guthrie', 'is_candidate': 'n'}, 'Savannah G.': {'to_name': 'Savannah Guthrie', 'is_candidate': 'n'}, 'Sec. Castro': {'to_name': 'Julian Castro', 'is_candidate': 'y'}, 'Sen Klobuchar': {'to_name': 'Amy Klobuchar', 'is_candidate': 'y'}, 'Senator Bennet': {'to_name': 'Michael Bennet', 'is_candidate': 'y'}, 'Senator Booker': {'to_name': 'Cory Booker', 'is_candidate': 'y'}, 'Senator Warren': {'to_name': 'Elizabeth Warren', 'is_candidate': 'y'}, 'Stephanie Sy': {'to_name': 'Stephanie Sy', 'is_candidate': 'n'}, 'Steve Bullock': {'to_name': 'Steve Bullock', 'is_candidate': 'y'}, 'Steve Kornacki': {'to_name': 'Steve Kornacki', 'is_candidate': 'n'}, 'Tim Alberta': {'to_name': 'Tim Alberta', 'is_candidate': 'n'}, 'Tim Ryan': {'to_name': 'Tim Ryan', 'is_candidate': 'y'}, 'Tom Steyer': {'to_name': 'Tom Steyer', 'is_candidate': 'y'}, 'Tulsi Gabbard': {'to_name': 'Tulsi Gabbard', 'is_candidate': 'y'}, 'Vanessa Hauc': {'to_name': 'Vanessa Hauc', 'is_candidate': 'n'}, 'Voiceover': {'to_name': nan, 'is_candidate': nan}, 'Wolf Blitzer': {'to_name': 'Wolf Blitzer', 'is_candidate': 'n'}, 'Yamiche': {'to_name': 'Yamiche Alcindor', 'is_candidate': 'n'}, 'Yamiche A.': {'to_name': 'Yamiche Alcindor', 'is_candidate': 'n'}, 'Yang': {'to_name': 'Andrew Yang', 'is_candidate': 'y'}}\n"
    }
   ],
   "source": [
    "# create dicts for name conversion\n",
    "name_conv = pd.read_csv('./names_conversion.csv')\n",
    "conv_dict = name_conv.set_index('present_name').T.to_dict()\n",
    "print(conv_dict)"
   ]
  }
 ]
}