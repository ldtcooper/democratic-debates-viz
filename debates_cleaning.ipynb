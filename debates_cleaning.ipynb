{
 "metadata": {
  "language_info": {
   "codemirror_mode": {
    "name": "ipython",
    "version": 3
   },
   "file_extension": ".py",
   "mimetype": "text/x-python",
   "name": "python",
   "nbconvert_exporter": "python",
   "pygments_lexer": "ipython3",
   "version": "3.8.5-final"
  },
  "orig_nbformat": 2,
  "kernelspec": {
   "name": "python_defaultSpec_1599707114599",
   "display_name": "Python 3.8.5 64-bit ('dem-viz': conda)"
  }
 },
 "nbformat": 4,
 "nbformat_minor": 2,
 "cells": [
  {
   "cell_type": "code",
   "execution_count": 2,
   "metadata": {},
   "outputs": [],
   "source": [
    "import pandas as pd\n",
    "import re\n",
    "debates = pd.read_csv('./debates.csv')"
   ]
  },
  {
   "cell_type": "code",
   "execution_count": 13,
   "metadata": {
    "tags": []
   },
   "outputs": [
    {
     "output_type": "stream",
     "name": "stdout",
     "text": "Rows before removing unknown speakers: 6286\n"
    },
    {
     "output_type": "execute_result",
     "data": {
      "text/plain": "count    210.000000\nmean      15.519048\nstd       25.732375\nmin        0.000000\n25%        3.000000\n50%        5.000000\n75%       15.750000\nmax      174.000000\nName: dialog, dtype: float64"
     },
     "metadata": {},
     "execution_count": 13
    }
   ],
   "source": [
    "# Looking at summary stats about the size of unknown speaker dialog\n",
    "speaker_or_moderator = re.compile(r'(Speaker|Moderator)')\n",
    "unknown = debates['speaker'].str.contains(speaker_or_moderator)\n",
    "unkowns_only = debates[unknown]\n",
    "words_in_unknown = unkowns_only['dialog'].str.split().str.len()\n",
    "words_in_unknown.describe()"
   ]
  },
  {
   "cell_type": "code",
   "execution_count": 12,
   "metadata": {},
   "outputs": [
    {
     "output_type": "execute_result",
     "data": {
      "text/plain": "count    6076.000000\nmean       47.514319\nstd        50.714123\nmin         0.000000\n25%         5.000000\n50%        24.000000\n75%        81.000000\nmax       304.000000\nName: dialog, dtype: float64"
     },
     "metadata": {},
     "execution_count": 12
    }
   ],
   "source": [
    "# comparing to size of known speaker dialog\n",
    "debate_without_unknowns = debates[~unknown]\n",
    "words_in_known = debate_without_unknowns['dialog'].str.split().str.len()\n",
    "words_in_known.describe()"
   ]
  },
  {
   "cell_type": "markdown",
   "metadata": {},
   "source": [
    "# Unknown Cleanup\n",
    "Taking a look at the data immediatly after scraping, there was one problem that immediatly stood out: not all of the speakers could be identified. Almost all of them were, but some were marked with `\"Speaker <number>\"` or `\"Moderator <number>\"`. While this could have been fixed with a careful examination of the original videos alongside the transcrips, that would have been incredibly time-consuming for 210 rows.\n",
    "\n",
    "Looking at summary statistics for the number of words in dialog by unknown vs. known speakers, we can see that the mean dialog (pun intended) spoken by an unknown speaker is about one quarter the length of that of a known speaker. It is also much more closely clustered around that smaller size (with a SD of ~15.52 versus the SD of ~47.51 for known speakers). \n",
    "\n",
    "Because of the relatively small number of unknown lines (~3.34% of the total), and the small size of those lines, we are simply removing the rows with unknown speakers. After doing so, our next step will be to clean up the names of the remaining speakers."
   ]
  },
  {
   "cell_type": "code",
   "execution_count": 3,
   "metadata": {
    "tags": []
   },
   "outputs": [
    {
     "output_type": "stream",
     "name": "stdout",
     "text": "['Lester Holt' 'Savannah G.' 'Senator Warren' 'Amy Klobachar'\n 'Beto O’Rourke' 'Cory Booker' 'Julian Castro' 'Tulsi Gabbard' 'Jose D.B.'\n 'Mayor de Blasio' 'John Delaney' 'Jay Inslee' 'Tim Ryan' 'Jose'\n 'Bill De Blasio' 'Savannah' 'Amy Klobuchar' 'Steve Kornacki'\n 'Rachel Maddow' 'Chuck Todd' 'Elizabeth W.' 'Jose D. B.' 'Savanagh G.'\n 'Bernie Sanders' 'Bennett' 'Joe Biden' 'Kamala Harris' 'John H.'\n 'Kirsten G.' 'Pete Buttigieg' 'Eric Stalwell' 'Andrew Yang'\n 'Eric Swalwell' 'M. Williamson' 'Marianne W.' 'Michael Bennet'\n 'Jake Tapper' 'Diana' 'Steve Bullock' 'Dana Bash' 'Ms. Williamson'\n 'Don Lemon' 'John H' 'Elizabeth W' 'Female' 'Male' 'Mayor Buttigieg'\n 'Elizabeth Warre' 'John Hickenloop' 'Marianne Willia' 'J. Hickenlooper'\n 'E. Warren' 'Anderson Cooper' 'John King' 'N. Henderson' 'Bill de Blasio'\n 'Crowd' 'Yang' 'Kristen Gillibr' 'Gillibrand' 'Senator Bennet'\n 'George S.' 'Voiceover' 'Jorge Ramos' 'David Muir' 'George S'\n 'Sen Klobuchar' 'Sec. Castro' 'David ' 'Lindsey' 'Erin Burnett'\n 'Marc Lacey' 'Senator Booker' 'Tom Steyer' 'A. Cooper' 'Andrea Mitchell'\n 'Kristen Welker' 'Ashley Parker' 'Judy Woodruff' 'Amy Walter'\n 'Stephanie Sy' 'Tim Alberta' 'Amna' 'Amna Nawaz' 'Yamiche' 'Yamiche A.'\n 'Judy' 'Wolf Blitzer' 'Abby Phillip' 'B. Pfannenstiel' 'Abby P'\n 'Brianne P' 'Brianne P.' 'Abby Phillips' 'Elizabeth Warren'\n 'Monica Hernandez' 'Adam Sexton' 'Joe Biden ' 'Linsey Davis'\n 'Devin Dwyer' 'Rachel Scott' 'Announcer' 'Michael Bloomberg'\n 'Hallie Jackson' 'Vanessa Hauc' 'Jon Ralston' 'Helen' 'Audience'\n 'Norah O’Donnell' 'Gayle King' 'Mike Bloomberg' 'Bill Whitaker'\n 'Major Garrett' 'Margaret Brennan' 'Ilia Calderón' 'Dr. Sanjay Gupta'\n 'Amy Langenfeld']\n"
    }
   ],
   "source": [
    "\n",
    "print(debates['speaker'].unique())"
   ]
  },
  {
   "cell_type": "code",
   "execution_count": null,
   "metadata": {},
   "outputs": [],
   "source": []
  }
 ]
}