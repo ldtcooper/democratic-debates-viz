{
 "cells": [
  {
   "cell_type": "code",
   "execution_count": 54,
   "metadata": {},
   "outputs": [
    {
     "ename": "AttributeError",
     "evalue": "'NoneType' object has no attribute 'replace'",
     "output_type": "error",
     "traceback": [
      "\u001b[0;31m---------------------------------------------------------------------------\u001b[0m",
      "\u001b[0;31mAttributeError\u001b[0m                            Traceback (most recent call last)",
      "\u001b[0;32m<ipython-input-54-9a3e08b9e0eb>\u001b[0m in \u001b[0;36m<module>\u001b[0;34m()\u001b[0m\n\u001b[1;32m     23\u001b[0m \u001b[0mword_frequencies\u001b[0m \u001b[0;34m=\u001b[0m \u001b[0;34m{\u001b[0m\u001b[0;34m}\u001b[0m\u001b[0;34m\u001b[0m\u001b[0m\n\u001b[1;32m     24\u001b[0m \u001b[0;32mfor\u001b[0m \u001b[0mp\u001b[0m \u001b[0;32min\u001b[0m \u001b[0mp_collection\u001b[0m\u001b[0;34m:\u001b[0m\u001b[0;34m\u001b[0m\u001b[0m\n\u001b[0;32m---> 25\u001b[0;31m     \u001b[0mtag_text\u001b[0m \u001b[0;34m=\u001b[0m \u001b[0mp\u001b[0m\u001b[0;34m.\u001b[0m\u001b[0mstring\u001b[0m\u001b[0;34m.\u001b[0m\u001b[0mreplace\u001b[0m\u001b[0;34m(\u001b[0m\u001b[0;34m'\\n'\u001b[0m\u001b[0;34m,\u001b[0m \u001b[0;34m''\u001b[0m\u001b[0;34m)\u001b[0m\u001b[0;34m\u001b[0m\u001b[0m\n\u001b[0m\u001b[1;32m     26\u001b[0m     \u001b[0mtag_matcher\u001b[0m \u001b[0;34m=\u001b[0m \u001b[0;34m'^(([A-Z]+)( \\(\\?\\))?): (.+)$'\u001b[0m\u001b[0;34m;\u001b[0m \u001b[0;31m# grabs the name of the speaker\u001b[0m\u001b[0;34m\u001b[0m\u001b[0m\n\u001b[1;32m     27\u001b[0m     \u001b[0mspeaker_match\u001b[0m \u001b[0;34m=\u001b[0m \u001b[0mre\u001b[0m\u001b[0;34m.\u001b[0m\u001b[0mmatch\u001b[0m\u001b[0;34m(\u001b[0m\u001b[0mtag_matcher\u001b[0m\u001b[0;34m,\u001b[0m \u001b[0mtag_text\u001b[0m\u001b[0;34m)\u001b[0m\u001b[0;34m\u001b[0m\u001b[0m\n",
      "\u001b[0;31mAttributeError\u001b[0m: 'NoneType' object has no attribute 'replace'"
     ]
    }
   ],
   "source": [
    "from bs4 import BeautifulSoup\n",
    "import re\n",
    "f = open(\"transcript.html\")\n",
    "html_string = f.read()\n",
    "html_tree = BeautifulSoup(html_string, 'html.parser')\n",
    "\n",
    "def filter_html(tag):\n",
    "    # gets all p tags with no i tags in them\n",
    "    if tag.name == 'p' and not tag.i:\n",
    "        if re.match('\\([A-Z]+\\)', tag.text):\n",
    "            # filters out placeholders like '(APPLAUSE)' and '(LAUGHTER)'\n",
    "            return False\n",
    "        return True\n",
    "    else:\n",
    "        return False\n",
    "    \n",
    "    \n",
    "p_collection = html_tree.find('article').find_all(filter_html)\n",
    "# we don't want to include the moderators in our table\n",
    "\n",
    "moderators = ['TAPPER', 'BASH']\n",
    "last_match = None\n",
    "word_frequencies = {}\n",
    "for p in p_collection:\n",
    "    print(p.string)\n",
    "    tag_text = p.string.replace('\\n', '')\n",
    "    tag_matcher = '^(([A-Z]+)( \\(\\?\\))?): (.+)$'; # grabs the name of the speaker\n",
    "    speaker_match = re.match(tag_matcher, tag_text)\n",
    "    # some new p tags continue the last speaker's thought and don't have a name in front\n",
    "    if speaker_match:\n",
    "        # if there is a name in front, we know there is a new speaker\n",
    "        name = speaker_match.group(2)\n",
    "        last_match = name\n",
    "        dialog = speaker_match.group(4)\n",
    "    else:\n",
    "        name = last_match\n",
    "        dialog = tag_text\n",
    "    if name in moderators:\n",
    "        continue\n",
    "    if name not in word_frequencies:\n",
    "        word_frequencies[name] = {}\n",
    "    word_list = dialog.split(' ')\n",
    "    for word in word_list:\n",
    "        if word in word_frequencies[name]:\n",
    "            word_frequencies[name][word] += 1\n",
    "        else:\n",
    "            word_frequencies[name][word] = 1\n",
    "            \n",
    "print(word_frequencies)\n",
    "        \n",
    "    \n",
    "    "
   ]
  },
  {
   "cell_type": "code",
   "execution_count": null,
   "metadata": {},
   "outputs": [],
   "source": []
  }
 ],
 "metadata": {
  "kernelspec": {
   "display_name": "Python 3",
   "language": "python",
   "name": "python3"
  },
  "language_info": {
   "codemirror_mode": {
    "name": "ipython",
    "version": 3
   },
   "file_extension": ".py",
   "mimetype": "text/x-python",
   "name": "python",
   "nbconvert_exporter": "python",
   "pygments_lexer": "ipython3",
   "version": "3.6.5"
  }
 },
 "nbformat": 4,
 "nbformat_minor": 2
}
