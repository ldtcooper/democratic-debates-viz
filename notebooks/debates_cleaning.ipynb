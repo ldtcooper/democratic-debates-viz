{
 "metadata": {
  "language_info": {
   "codemirror_mode": {
    "name": "ipython",
    "version": 3
   },
   "file_extension": ".py",
   "mimetype": "text/x-python",
   "name": "python",
   "nbconvert_exporter": "python",
   "pygments_lexer": "ipython3",
   "version": "3.8.5-final"
  },
  "orig_nbformat": 2,
  "kernelspec": {
   "name": "python_defaultSpec_1600628202658",
   "display_name": "Python 3.8.5 64-bit ('dem-viz': conda)"
  }
 },
 "nbformat": 4,
 "nbformat_minor": 2,
 "cells": [
  {
   "cell_type": "code",
   "execution_count": 1,
   "metadata": {},
   "outputs": [],
   "source": [
    "import pandas as pd\n",
    "import re\n",
    "debates = pd.read_csv('./../data/raw_debates.csv')"
   ]
  },
  {
   "cell_type": "code",
   "execution_count": 2,
   "metadata": {
    "tags": []
   },
   "outputs": [
    {
     "output_type": "execute_result",
     "data": {
      "text/plain": "count    206.000000\nmean      15.834951\nstd       25.881756\nmin        1.000000\n25%        3.000000\n50%        5.000000\n75%       16.000000\nmax      174.000000\nName: dialog, dtype: float64"
     },
     "metadata": {},
     "execution_count": 2
    }
   ],
   "source": [
    "# Looking at summary stats about the size of unknown speaker dialog\n",
    "speaker_or_moderator = re.compile(r'(Speaker|Moderator|Audience)')\n",
    "unknown = debates['speaker'].str.contains(speaker_or_moderator)\n",
    "unkowns_only = debates[unknown]\n",
    "words_in_unknown = unkowns_only['dialog'].str.split().str.len()\n",
    "words_in_unknown.describe()"
   ]
  },
  {
   "cell_type": "code",
   "execution_count": 3,
   "metadata": {},
   "outputs": [
    {
     "output_type": "execute_result",
     "data": {
      "text/plain": "count    6045.000000\nmean       47.757486\nstd        50.729882\nmin         1.000000\n25%         6.000000\n50%        24.000000\n75%        81.000000\nmax       304.000000\nName: dialog, dtype: float64"
     },
     "metadata": {},
     "execution_count": 3
    }
   ],
   "source": [
    "# comparing to size of known speaker dialog\n",
    "debate_without_unknowns = debates[~unknown]\n",
    "words_in_known = debate_without_unknowns['dialog'].str.split().str.len()\n",
    "words_in_known.describe()"
   ]
  },
  {
   "cell_type": "markdown",
   "metadata": {},
   "source": [
    "# Unknown Cleanup\n",
    "Taking a look at the data immediatly after scraping, there was one problem that immediatly stood out: not all of the speakers could be identified. Almost all of them were, but some were marked with `\"Speaker <number>\"` or `\"Moderator <number>\"`. While this could have been fixed with a careful examination of the original videos alongside the transcrips, that would have been incredibly time-consuming for over 200 rows.\n",
    "\n",
    "Looking at summary statistics for the number of words in dialog by unknown vs. known speakers, we can see that the mean dialog (pun intended) spoken by an unknown speaker is less than one quarter the length of that of a known speaker. It is also much more closely clustered around that smaller size (with a SD of ~15.83 versus the SD of ~47.76 for known speakers). \n",
    "\n",
    "Because of the relatively small number of unknown lines (~3% of the total), and the small size of those lines, we are simply removing the rows with unknown speakers. After doing so, our next step will be to clean up the names of the remaining speakers."
   ]
  },
  {
   "cell_type": "code",
   "execution_count": 4,
   "metadata": {
    "tags": []
   },
   "outputs": [
    {
     "output_type": "stream",
     "name": "stdout",
     "text": "['A. Cooper', 'Abby P', 'Abby Phillip', 'Abby Phillips', 'Adam Sexton', 'Amna', 'Amna Nawaz', 'Amy Klobachar', 'Amy Klobuchar', 'Amy Langenfeld', 'Amy Walter', 'Anderson Cooper', 'Andrea Mitchell', 'Andrew Yang', 'Announcer', 'Ashley Parker', 'B. Pfannenstiel', 'Bennett', 'Bernie Sanders', 'Beto O’Rourke', 'Bill De Blasio', 'Bill Whitaker', 'Bill de Blasio', 'Brianne P', 'Brianne P.', 'Chuck Todd', 'Cory Booker', 'Crowd', 'Dana Bash', 'David', 'David Muir', 'Devin Dwyer', 'Diana', 'Don Lemon', 'Dr. Sanjay Gupta', 'E. Warren', 'Elizabeth W', 'Elizabeth W.', 'Elizabeth Warre', 'Elizabeth Warren', 'Eric Stalwell', 'Eric Swalwell', 'Erin Burnett', 'Female', 'Gayle King', 'George S', 'George S.', 'Gillibrand', 'Hallie Jackson', 'Helen', 'Ilia Calderón', 'J. Hickenlooper', 'Jake Tapper', 'Jay Inslee', 'Joe Biden', 'John Delaney', 'John H', 'John H.', 'John Hickenloop', 'John King', 'Jon Ralston', 'Jorge Ramos', 'Jose', 'Jose D. B.', 'Jose D.B.', 'Judy', 'Judy Woodruff', 'Julian Castro', 'Kamala Harris', 'Kirsten G.', 'Kristen Gillibr', 'Kristen Welker', 'Lester Holt', 'Lindsey', 'Linsey Davis', 'M. Williamson', 'Major Garrett', 'Male', 'Marc Lacey', 'Margaret Brennan', 'Marianne W.', 'Marianne Willia', 'Mayor Buttigieg', 'Mayor de Blasio', 'Michael Bennet', 'Michael Bloomberg', 'Mike Bloomberg', 'Monica Hernandez', 'Ms. Williamson', 'N. Henderson', 'Norah O’Donnell', 'Pete Buttigieg', 'Rachel Maddow', 'Rachel Scott', 'Savanagh G.', 'Savannah', 'Savannah G.', 'Sec. Castro', 'Sen Klobuchar', 'Senator Bennet', 'Senator Booker', 'Senator Warren', 'Stephanie Sy', 'Steve Bullock', 'Steve Kornacki', 'Tim Alberta', 'Tim Ryan', 'Tom Steyer', 'Tulsi Gabbard', 'Vanessa Hauc', 'Voiceover', 'Wolf Blitzer', 'Yamiche', 'Yamiche A.', 'Yang']\n"
    }
   ],
   "source": [
    "\n",
    "# remove unknown speakers\n",
    "debates = debate_without_unknowns\n",
    "# see all names\n",
    "unique_names = sorted(debates['speaker'].unique())\n",
    "print(unique_names)\n",
    "\n",
    "text_file = open('./../data/names.csv', 'w')\n",
    "n = text_file.write(',\\n'.join(unique_names))\n",
    "text_file.close()\n",
    "\n"
   ]
  },
  {
   "cell_type": "markdown",
   "metadata": {},
   "source": [
    "# Normalizing Names\n",
    "My next problem was the large variation in names. The same candidate could be referred to by a lot of different names. Some of these were as simple as extra spacing on the end (which I fixed in the data scraper), while others were more complicated.\n",
    "\n",
    "For example: Elizabeth Warren was in the transcripts under 6 different variations of her name, e.g. \"Elizabeth Warren,\", \"E. Warren\", \"Senator Warren\"\n",
    "\n",
    "It would have been cool to do this programatically. One solution I saw to a similar problem was to use k-mean clustering by Levenshtein Distance, but there were two problems with this approach. One, I would need to know how many clusters (i.e. people) I needed to find, and two, I'd need to take the time to implement that rather heavy way of doing things, in which time I could have done the one-time task several times over. With that in mind, I went through the unique list of names by hand and created a table that would tell me what actual names correspond to names in the transcripts. \n",
    "\n",
    "I also used that opportunity to denote which people were candidates, and which invalid entries remained after the validation in the scraping step, e.g. \"Crowd\", \"Male\", etc.\n",
    "\n",
    "You can see the results of this process in `names_conversion.csv`.\n",
    "\n"
   ]
  },
  {
   "cell_type": "code",
   "execution_count": 5,
   "metadata": {
    "tags": []
   },
   "outputs": [
    {
     "output_type": "stream",
     "name": "stdout",
     "text": "speaker                                             dialog  \\\n0        Lester Holt  comment on every topic but over the course of ...   \n1   Savannah Guthrie  all right so with that business out of the way...   \n2   Elizabeth Warren                      thank you its good to be here   \n3   Savannah Guthrie  you have many plans free college free childcar...   \n4   Elizabeth Warren  i think of it this way who is this economy rea...   \n5   Elizabeth Warren  its doing great for giant oil companies that w...   \n6   Savannah Guthrie  senator klobuchar you called programs like fre...   \n7      Amy Klobuchar  well first the economy we know that not everyo...   \n8      Amy Klobuchar  secondly id use pell grants id double them fro...   \n9   Savannah Guthrie  thats time thank you congressman orourke what ...   \n10     Beto O’Rourke  this economy has got to work for everyone and ...   \n11  Savannah Guthrie                                congressman orourke   \n12     Beto O’Rourke  thats how we each have a voice in our democrac...   \n13  Savannah Guthrie  congressman thats time sir ill give you 10 sec...   \n14     Beto O’Rourke  i would support a tax rate and a tax code that...   \n15  Savannah Guthrie                                                 70   \n16     Beto O’Rourke  at the same rate that you tax ordinary income ...   \n17  Savannah Guthrie                                    okay thats time   \n18     Beto O’Rourke  you would generate the revenues you need to pa...   \n19  Savannah Guthrie  thats time thank you senator booker there is a...   \n20       Cory Booker  i dont think i disagree i think we have a seri...   \n21       Cory Booker  one of the most aggressive bills in the senate...   \n22  Savannah Guthrie  quickly senator booker you did say that you di...   \n23       Cory Booker  well again i will single out companies like ha...   \n24  Savannah Guthrie                                     thats time sir   \n25       Cory Booker  we need to have someone thats a champion for them   \n26  Savannah Guthrie  thank you senator warren i mentioned you are y...   \n27  Elizabeth Warren  the way i understand this is there is way too ...   \n28  Elizabeth Warren  it has been for too long that the monopolies h...   \n29  Savannah Guthrie                                          thank you   \n30       Lester Holt  secretary castro the next question is for you ...   \n31     Julian Castro  thank you very much for that question lester i...   \n32       Lester Holt  all right thank you i want to put the same que...   \n33     Tulsi Gabbard  well first of all lets recognize the situation...   \n34     Tulsi Gabbard  i know the importance of our national security...   \n35  Jose Diaz-Balart  mayor de blasio good evening youre the mayor o...   \n36    Bill De Blasio  well weve been addressing income inequality in...   \n37    Bill De Blasio  yes were supposed to be for 70 tax rate on the...   \n38    Bill De Blasio  we can put money back in the hands of working ...   \n39  Jose Diaz-Balart                   congressman delaney do you agree   \n\n    debate_num  is_candidate  \n0            1         False  \n1            1         False  \n2            1          True  \n3            1         False  \n4            1          True  \n5            1          True  \n6            1         False  \n7            1          True  \n8            1          True  \n9            1         False  \n10           1          True  \n11           1         False  \n12           1          True  \n13           1         False  \n14           1          True  \n15           1         False  \n16           1          True  \n17           1         False  \n18           1          True  \n19           1         False  \n20           1          True  \n21           1          True  \n22           1         False  \n23           1          True  \n24           1         False  \n25           1          True  \n26           1         False  \n27           1          True  \n28           1          True  \n29           1         False  \n30           1         False  \n31           1          True  \n32           1         False  \n33           1          True  \n34           1          True  \n35           1         False  \n36           1          True  \n37           1          True  \n38           1          True  \n39           1         False  \n"
    }
   ],
   "source": [
    "# create dicts for name conversion\n",
    "name_conv = pd.read_csv('../data/names_conversion.csv')\n",
    "conv_dict = name_conv.set_index('present_name').T.to_dict()\n",
    "\n",
    "name_dict = {}\n",
    "candidate_dict = {}\n",
    "invalid_entries = []\n",
    "# split csv into dicts and lists to clean different values\n",
    "for k in conv_dict:\n",
    "    v = conv_dict[k]\n",
    "    # invalid values are nan (float), but valid ones are strings \n",
    "    if not isinstance(v['to_name'], str):\n",
    "        invalid_entries.append(k)\n",
    "        continue\n",
    "\n",
    "    # turn non-standard names into standard names\n",
    "    name_dict[k] = v['to_name']\n",
    "\n",
    "    # determine if a speaker is a moderator\n",
    "    if v['is_candidate'] == 'y':\n",
    "        candidate_dict[v['to_name']] = True\n",
    "    else:\n",
    "        candidate_dict[v['to_name']] = False\n",
    "\n",
    "# remove all invalid entries\n",
    "invalid_entries = debates['speaker'].isin(invalid_entries)\n",
    "debates = debates[~invalid_entries]\n",
    "\n",
    "# standardize names\n",
    "debates['speaker'] = debates['speaker'].map(name_dict)\n",
    "# add candidate column\n",
    "debates['is_candidate'] = debates['speaker'].map(candidate_dict)\n",
    "\n",
    "print(debates.head(40))\n"
   ]
  },
  {
   "source": [
    "# Conclusion\n",
    "\n",
    "In this notebook we've taken the following steps to ensure that the data is as clean as possible:\n",
    "\n",
    "- Removed initial invalid entries (i.e. entries with unknown speakers)\n",
    "- Normalized names so that one speaker is always labelled with the same name (e.g. Michael Bloomberg is always \"Michael Bloomberg\" and never \"Mike Bloomberg\")\n",
    "- Removed more unknown speakers who weren't uncovered in the initial steps\n",
    "- Added information on who is a candidate and who isn't so that we can filter on that information later"
   ],
   "cell_type": "markdown",
   "metadata": {
    "tags": []
   }
  }
 ]
}